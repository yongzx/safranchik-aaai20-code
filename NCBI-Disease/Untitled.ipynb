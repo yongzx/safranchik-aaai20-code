{
 "cells": [
  {
   "cell_type": "code",
   "execution_count": 2,
   "id": "d03edef2",
   "metadata": {
    "ExecuteTime": {
     "end_time": "2021-04-08T15:51:09.064952Z",
     "start_time": "2021-04-08T15:51:06.260531Z"
    }
   },
   "outputs": [],
   "source": [
    "from wiser.data.dataset_readers import NCBIDiseaseDatasetReader\n",
    "from wiser.rules import TaggingRule, LinkingRule, UMLSMatcher, DictionaryMatcher\n",
    "from wiser.generative import get_label_to_ix, get_rules\n",
    "from labelmodels import *\n",
    "from wiser.generative import train_generative_model\n",
    "from labelmodels import LearningConfig\n",
    "from wiser.generative import evaluate_generative_model\n",
    "from wiser.data import save_label_distribution\n",
    "from wiser.eval import *\n",
    "from wiser.rules import ElmoLinkingRule\n",
    "from collections import Counter"
   ]
  },
  {
   "cell_type": "code",
   "execution_count": 3,
   "id": "357c461e",
   "metadata": {
    "ExecuteTime": {
     "end_time": "2021-04-08T15:51:45.315189Z",
     "start_time": "2021-04-08T15:51:13.650748Z"
    }
   },
   "outputs": [
    {
     "name": "stderr",
     "output_type": "stream",
     "text": [
      "\r",
      "0it [00:00, ?it/s]"
     ]
    },
    {
     "data": {
      "application/vnd.jupyter.widget-view+json": {
       "model_id": "e130faef2af243a189af16e40281d7cf",
       "version_major": 2,
       "version_minor": 0
      },
      "text/plain": [
       "  0%|          | 0/6924 [00:00<?, ?it/s]"
      ]
     },
     "metadata": {},
     "output_type": "display_data"
    },
    {
     "name": "stderr",
     "output_type": "stream",
     "text": [
      "592it [00:22, 26.05it/s]\n",
      "0it [00:00, ?it/s]"
     ]
    },
    {
     "data": {
      "application/vnd.jupyter.widget-view+json": {
       "model_id": "ee25993af34848079cfd18999e6248eb",
       "version_major": 2,
       "version_minor": 0
      },
      "text/plain": [
       "  0%|          | 0/1087 [00:00<?, ?it/s]"
      ]
     },
     "metadata": {},
     "output_type": "display_data"
    },
    {
     "name": "stderr",
     "output_type": "stream",
     "text": [
      "99it [00:04, 23.72it/s]\n",
      "0it [00:00, ?it/s]"
     ]
    },
    {
     "data": {
      "application/vnd.jupyter.widget-view+json": {
       "model_id": "251261a8570a4e538da95d32d2ceb263",
       "version_major": 2,
       "version_minor": 0
      },
      "text/plain": [
       "  0%|          | 0/1259 [00:00<?, ?it/s]"
      ]
     },
     "metadata": {},
     "output_type": "display_data"
    },
    {
     "name": "stderr",
     "output_type": "stream",
     "text": [
      "99it [00:04, 22.99it/s]\n"
     ]
    }
   ],
   "source": [
    "root = \"../../data/\"\n",
    "reader = NCBIDiseaseDatasetReader()\n",
    "train_data = reader.read('../data/NCBI/NCBItrainset_corpus.txt')\n",
    "dev_data = reader.read('../data/NCBI/NCBIdevelopset_corpus.txt')\n",
    "test_data = reader.read('../data/NCBI/NCBItestset_corpus.txt')"
   ]
  },
  {
   "cell_type": "code",
   "execution_count": null,
   "id": "4d1e7076",
   "metadata": {},
   "outputs": [],
   "source": []
  }
 ],
 "metadata": {
  "kernelspec": {
   "display_name": ".virtualenv",
   "language": "python",
   "name": ".virtualenv"
  },
  "language_info": {
   "codemirror_mode": {
    "name": "ipython",
    "version": 3
   },
   "file_extension": ".py",
   "mimetype": "text/x-python",
   "name": "python",
   "nbconvert_exporter": "python",
   "pygments_lexer": "ipython3",
   "version": "3.7.10"
  },
  "toc": {
   "base_numbering": 1,
   "nav_menu": {},
   "number_sections": true,
   "sideBar": true,
   "skip_h1_title": false,
   "title_cell": "Table of Contents",
   "title_sidebar": "Contents",
   "toc_cell": false,
   "toc_position": {},
   "toc_section_display": true,
   "toc_window_display": false
  }
 },
 "nbformat": 4,
 "nbformat_minor": 5
}
